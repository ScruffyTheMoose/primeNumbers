{
 "cells": [
  {
   "cell_type": "code",
   "execution_count": 43,
   "metadata": {},
   "outputs": [],
   "source": [
    "import pandas as pd"
   ]
  },
  {
   "cell_type": "code",
   "execution_count": 48,
   "metadata": {},
   "outputs": [],
   "source": [
    "def sieve(n: int) -> list:\n",
    "    \n",
    "    # set for tracking composite numbers\n",
    "    composite_set = set()\n",
    "\n",
    "    # set for tracking prime numbers\n",
    "    prime_set = set()\n",
    "\n",
    "    # for all elements in the range n starting with first prime\n",
    "    for i in range(2, n+1):\n",
    "\n",
    "        # if i is not a composite number\n",
    "        if i not in composite_set:\n",
    "\n",
    "            # add i to the prime set\n",
    "            prime_set.add(i)\n",
    "\n",
    "            # for all elements from i^2 to n+1 stepping i values at a time\n",
    "            # by going i values each iteration, it adds only multiples of i to the composite set\n",
    "            # any values that it skips will by default be primes\n",
    "            for j in range(i*i, n+1, i):\n",
    "                composite_set.add(j)\n",
    "\n",
    "    result = list(prime_set)\n",
    "    result.sort() # python doesn't like converting a set to a list and sorting on the same line\n",
    "    return result"
   ]
  },
  {
   "cell_type": "code",
   "execution_count": 47,
   "metadata": {},
   "outputs": [],
   "source": [
    "df = pd.DataFrame(sieve(1000), columns=['primes'])\n",
    "df.to_csv(path_or_buf='primes.csv')"
   ]
  }
 ],
 "metadata": {
  "interpreter": {
   "hash": "f9f85f796d01129d0dd105a088854619f454435301f6ffec2fea96ecbd9be4ac"
  },
  "kernelspec": {
   "display_name": "Python 3.9.5 64-bit",
   "language": "python",
   "name": "python3"
  },
  "language_info": {
   "codemirror_mode": {
    "name": "ipython",
    "version": 3
   },
   "file_extension": ".py",
   "mimetype": "text/x-python",
   "name": "python",
   "nbconvert_exporter": "python",
   "pygments_lexer": "ipython3",
   "version": "3.8.10"
  },
  "orig_nbformat": 4
 },
 "nbformat": 4,
 "nbformat_minor": 2
}
