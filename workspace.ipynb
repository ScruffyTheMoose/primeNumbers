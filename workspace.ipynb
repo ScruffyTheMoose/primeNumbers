{
 "cells": [
  {
   "cell_type": "code",
   "execution_count": 48,
   "metadata": {},
   "outputs": [],
   "source": [
    "import pandas as pd\n",
    "import sieveOfEratosthenes as soe\n",
    "import palindromes as pals"
   ]
  },
  {
   "cell_type": "markdown",
   "metadata": {},
   "source": [
    "First we read in the CSV file containing the prime numbers that have been found so far."
   ]
  },
  {
   "cell_type": "code",
   "execution_count": 49,
   "metadata": {},
   "outputs": [
    {
     "data": {
      "text/html": [
       "<div>\n",
       "<style scoped>\n",
       "    .dataframe tbody tr th:only-of-type {\n",
       "        vertical-align: middle;\n",
       "    }\n",
       "\n",
       "    .dataframe tbody tr th {\n",
       "        vertical-align: top;\n",
       "    }\n",
       "\n",
       "    .dataframe thead th {\n",
       "        text-align: right;\n",
       "    }\n",
       "</style>\n",
       "<table border=\"1\" class=\"dataframe\">\n",
       "  <thead>\n",
       "    <tr style=\"text-align: right;\">\n",
       "      <th></th>\n",
       "      <th>primes</th>\n",
       "    </tr>\n",
       "  </thead>\n",
       "  <tbody>\n",
       "    <tr>\n",
       "      <th>0</th>\n",
       "      <td>2</td>\n",
       "    </tr>\n",
       "    <tr>\n",
       "      <th>1</th>\n",
       "      <td>3</td>\n",
       "    </tr>\n",
       "    <tr>\n",
       "      <th>2</th>\n",
       "      <td>5</td>\n",
       "    </tr>\n",
       "    <tr>\n",
       "      <th>3</th>\n",
       "      <td>7</td>\n",
       "    </tr>\n",
       "    <tr>\n",
       "      <th>4</th>\n",
       "      <td>11</td>\n",
       "    </tr>\n",
       "    <tr>\n",
       "      <th>...</th>\n",
       "      <td>...</td>\n",
       "    </tr>\n",
       "    <tr>\n",
       "      <th>664574</th>\n",
       "      <td>9999937</td>\n",
       "    </tr>\n",
       "    <tr>\n",
       "      <th>664575</th>\n",
       "      <td>9999943</td>\n",
       "    </tr>\n",
       "    <tr>\n",
       "      <th>664576</th>\n",
       "      <td>9999971</td>\n",
       "    </tr>\n",
       "    <tr>\n",
       "      <th>664577</th>\n",
       "      <td>9999973</td>\n",
       "    </tr>\n",
       "    <tr>\n",
       "      <th>664578</th>\n",
       "      <td>9999991</td>\n",
       "    </tr>\n",
       "  </tbody>\n",
       "</table>\n",
       "<p>664579 rows × 1 columns</p>\n",
       "</div>"
      ],
      "text/plain": [
       "         primes\n",
       "0             2\n",
       "1             3\n",
       "2             5\n",
       "3             7\n",
       "4            11\n",
       "...         ...\n",
       "664574  9999937\n",
       "664575  9999943\n",
       "664576  9999971\n",
       "664577  9999973\n",
       "664578  9999991\n",
       "\n",
       "[664579 rows x 1 columns]"
      ]
     },
     "execution_count": 49,
     "metadata": {},
     "output_type": "execute_result"
    }
   ],
   "source": [
    "prime_df = pd.read_csv('primes.csv', index_col=False)\n",
    "prime_df"
   ]
  },
  {
   "cell_type": "markdown",
   "metadata": {},
   "source": [
    "Now, we'll use a lambda function to apply the palindrome evaluation module to each row in the DataFrame. \n",
    "\n",
    "To to this, we use DataFrame.apply(). Inside the method, we write a lambda function that takes the Series value in the 'primes' column, passes the value to pals.palindrome(), and assigns the returned value to the current Series in a new column named 'palindrome'.\n",
    "\n",
    "P(n): n is a palindrome is represented by:\n",
    "1 -> True\n",
    "0 -> False"
   ]
  },
  {
   "cell_type": "code",
   "execution_count": 50,
   "metadata": {},
   "outputs": [
    {
     "data": {
      "text/html": [
       "<div>\n",
       "<style scoped>\n",
       "    .dataframe tbody tr th:only-of-type {\n",
       "        vertical-align: middle;\n",
       "    }\n",
       "\n",
       "    .dataframe tbody tr th {\n",
       "        vertical-align: top;\n",
       "    }\n",
       "\n",
       "    .dataframe thead th {\n",
       "        text-align: right;\n",
       "    }\n",
       "</style>\n",
       "<table border=\"1\" class=\"dataframe\">\n",
       "  <thead>\n",
       "    <tr style=\"text-align: right;\">\n",
       "      <th></th>\n",
       "      <th>primes</th>\n",
       "      <th>palindrome</th>\n",
       "    </tr>\n",
       "  </thead>\n",
       "  <tbody>\n",
       "    <tr>\n",
       "      <th>0</th>\n",
       "      <td>2</td>\n",
       "      <td>1</td>\n",
       "    </tr>\n",
       "    <tr>\n",
       "      <th>1</th>\n",
       "      <td>3</td>\n",
       "      <td>1</td>\n",
       "    </tr>\n",
       "    <tr>\n",
       "      <th>2</th>\n",
       "      <td>5</td>\n",
       "      <td>1</td>\n",
       "    </tr>\n",
       "    <tr>\n",
       "      <th>3</th>\n",
       "      <td>7</td>\n",
       "      <td>1</td>\n",
       "    </tr>\n",
       "    <tr>\n",
       "      <th>4</th>\n",
       "      <td>11</td>\n",
       "      <td>1</td>\n",
       "    </tr>\n",
       "    <tr>\n",
       "      <th>...</th>\n",
       "      <td>...</td>\n",
       "      <td>...</td>\n",
       "    </tr>\n",
       "    <tr>\n",
       "      <th>664574</th>\n",
       "      <td>9999937</td>\n",
       "      <td>0</td>\n",
       "    </tr>\n",
       "    <tr>\n",
       "      <th>664575</th>\n",
       "      <td>9999943</td>\n",
       "      <td>0</td>\n",
       "    </tr>\n",
       "    <tr>\n",
       "      <th>664576</th>\n",
       "      <td>9999971</td>\n",
       "      <td>0</td>\n",
       "    </tr>\n",
       "    <tr>\n",
       "      <th>664577</th>\n",
       "      <td>9999973</td>\n",
       "      <td>0</td>\n",
       "    </tr>\n",
       "    <tr>\n",
       "      <th>664578</th>\n",
       "      <td>9999991</td>\n",
       "      <td>0</td>\n",
       "    </tr>\n",
       "  </tbody>\n",
       "</table>\n",
       "<p>664579 rows × 2 columns</p>\n",
       "</div>"
      ],
      "text/plain": [
       "         primes  palindrome\n",
       "0             2           1\n",
       "1             3           1\n",
       "2             5           1\n",
       "3             7           1\n",
       "4            11           1\n",
       "...         ...         ...\n",
       "664574  9999937           0\n",
       "664575  9999943           0\n",
       "664576  9999971           0\n",
       "664577  9999973           0\n",
       "664578  9999991           0\n",
       "\n",
       "[664579 rows x 2 columns]"
      ]
     },
     "execution_count": 50,
     "metadata": {},
     "output_type": "execute_result"
    }
   ],
   "source": [
    "prime_df['palindrome'] = prime_df.apply(lambda row: pals.palindrome(row['primes']), axis=1)\n",
    "prime_df"
   ]
  },
  {
   "cell_type": "markdown",
   "metadata": {},
   "source": [
    "Using the DataFrame.value_counts() method we can compare the number of palindromes to non-palindromes in the set of prime numbers."
   ]
  },
  {
   "cell_type": "code",
   "execution_count": 51,
   "metadata": {},
   "outputs": [
    {
     "name": "stdout",
     "output_type": "stream",
     "text": [
      "\n",
      "Primes:              664579\n",
      "Palindromes:         781\n",
      "Non-Palindromes:     663798\n",
      "\n"
     ]
    }
   ],
   "source": [
    "pal_count = prime_df['palindrome'].value_counts()\n",
    "\n",
    "print(\n",
    "f\"\"\"\n",
    "{'Primes:':20} {len(prime_df)}\n",
    "{'Palindromes:':20} {pal_count[1]}\n",
    "{'Non-Palindromes:':20} {pal_count[0]}\n",
    "\"\"\")"
   ]
  }
 ],
 "metadata": {
  "interpreter": {
   "hash": "bc36590eacf1c9a793268aec5d777f67376443a066c99326a71d75f0940d07ac"
  },
  "kernelspec": {
   "display_name": "Python 3.10.2 64-bit",
   "language": "python",
   "name": "python3"
  },
  "language_info": {
   "codemirror_mode": {
    "name": "ipython",
    "version": 3
   },
   "file_extension": ".py",
   "mimetype": "text/x-python",
   "name": "python",
   "nbconvert_exporter": "python",
   "pygments_lexer": "ipython3",
   "version": "3.10.2"
  },
  "orig_nbformat": 4
 },
 "nbformat": 4,
 "nbformat_minor": 2
}
