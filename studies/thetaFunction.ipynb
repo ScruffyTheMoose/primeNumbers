{
 "cells": [
  {
   "cell_type": "code",
   "execution_count": 20,
   "metadata": {},
   "outputs": [],
   "source": [
    "import sys\n",
    "sys.path.append('..')\n",
    "\n",
    "import pandas as pd\n",
    "import chebyshevFunction as pr\n",
    "import matplotlib.pyplot as plt\n",
    "\n",
    "from math import log"
   ]
  },
  {
   "cell_type": "code",
   "execution_count": 21,
   "metadata": {},
   "outputs": [],
   "source": [
    "primes = pd.read_csv('../primes_100.csv')['primes'].tolist() # list"
   ]
  },
  {
   "cell_type": "markdown",
   "metadata": {},
   "source": [
    "Building list of all Theta(x) from 2 to 99999989 for each natural log, log_2, and log_10. Chebyshev's Function assumes use of natural log, but it will be interesting to see how they differ"
   ]
  },
  {
   "cell_type": "code",
   "execution_count": 22,
   "metadata": {},
   "outputs": [
    {
     "data": {
      "text/plain": [
       "[0.6931471805599453,\n",
       " 1.791759469228055,\n",
       " 3.401197381662155,\n",
       " 5.3471075307174685,\n",
       " 7.745002803515839,\n",
       " 10.309952160977376,\n",
       " 13.143165505033593,\n",
       " 16.087604484200035,\n",
       " 19.223098700129185,\n",
       " 22.59039453011566]"
      ]
     },
     "execution_count": 22,
     "metadata": {},
     "output_type": "execute_result"
    }
   ],
   "source": [
    "chebyshev_nums = pr.theta_e(primes, len(primes))\n",
    "\n",
    "chebyshev_nums[:10]"
   ]
  },
  {
   "cell_type": "code",
   "execution_count": 28,
   "metadata": {},
   "outputs": [
    {
     "data": {
      "image/png": "[encoded data removed]",
      "text/plain": [
       "<Figure size 432x288 with 1 Axes>"
      ]
     },
     "metadata": {
      "needs_background": "light"
     },
     "output_type": "display_data"
    }
   ],
   "source": [
    "plt.plot(range(len(chebyshev_nums)), chebyshev_nums)\n",
    "plt.show()"
   ]
  },
  {
   "cell_type": "markdown",
   "metadata": {},
   "source": [
    "At such massive scale, the graph of the numbers produces by Chebyshev's Function is log-linear."
   ]
  }
 ],
 "metadata": {
  "interpreter": {
   "hash": "bc36590eacf1c9a793268aec5d777f67376443a066c99326a71d75f0940d07ac"
  },
  "kernelspec": {
   "display_name": "Python 3.10.2 64-bit",
   "language": "python",
   "name": "python3"
  },
  "language_info": {
   "codemirror_mode": {
    "name": "ipython",
    "version": 3
   },
   "file_extension": ".py",
   "mimetype": "text/x-python",
   "name": "python",
   "nbconvert_exporter": "python",
   "pygments_lexer": "ipython3",
   "version": "3.10.2"
  },
  "orig_nbformat": 4
 },
 "nbformat": 4,
 "nbformat_minor": 2
}
